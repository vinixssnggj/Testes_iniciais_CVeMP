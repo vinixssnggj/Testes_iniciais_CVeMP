{
  
   "source": [
    "pip install mediapipe"
   ]
  },
  {
   "cell_type": "code",
   "execution_count": 1,
   "id": "ffb31f21-3766-4925-b1af-08936d86a59e",
   "metadata": {},
   "outputs": [],
   "source": [
    "import cv2\n",
    "import mediapipe as mp"
   ]
  },
  {
   "cell_type": "code",
   "execution_count": 2,
   "id": "9aa48849-7da7-4b2a-8432-dc1d93b6c74d",
   "metadata": {},
   "outputs": [],
   "source": [
    "mp_hands = mp.solutions.hands\n",
    "mp_face_mesh = mp.solutions.face_mesh\n",
    "mp_drawing = mp.solutions.drawing_utils\n",
    "drawing_spec = mp_drawing.DrawingSpec(thickness=1, circle_radius=1)\n",
    "\n",
    "hands = mp_hands.Hands(static_image_mode=False,\n",
    "                       max_num_hands=2,\n",
    "                       min_detection_confidence=0.5,\n",
    "                       min_tracking_confidence=0.5)\n",
    "\n",
    "face_mesh = mp_face_mesh.FaceMesh(static_image_mode=False,\n",
    "                                   max_num_faces=1,\n",
    "                                   refine_landmarks=True,\n",
    "                                   min_detection_confidence=0.5,\n",
    "                                   min_tracking_confidence=0.5)"
   ]
  },
  {
   "cell_type": "code",
   "execution_count": 5,
   "id": "2fd215c9-b483-4b6d-bd87-be3fd5cef462",
   "metadata": {},
   "outputs": [],
   "source": [
    "cap = cv2.VideoCapture(0)"
   ]
  },
  {
   "cell_type": "code",
   "execution_count": 6,
   "id": "fcd540cd-3983-4761-bc73-9ada1a525838",
   "metadata": {},
   "outputs": [],
   "source": [
    "if not cap.isOpened():\n",
    "    print(\"Erro ao abrir a camera\")\n",
    "    exit()\n",
    "\n",
    "# Função para reconhecer gestos\n",
    "def reconhecer_gesto(landmarks):\n",
    "    dedos = []\n",
    "\n",
    "    # Pontos de referência\n",
    "    tips_ids = [4, 8, 12, 16, 20]  # Polegar, Indicador, Médio, Anelar, Mínimo\n",
    "\n",
    "    # Polegar (usa eixo X porque ele se move lateralmente)\n",
    "    if landmarks[tips_ids[0]].x < landmarks[tips_ids[0] - 1].x:\n",
    "        dedos.append(1)\n",
    "    else:\n",
    "        dedos.append(0)\n",
    "\n",
    "    # Restante dos dedos (usam eixo Y)\n",
    "    for i in range(1, 5):\n",
    "        if landmarks[tips_ids[i]].y < landmarks[tips_ids[i] - 2].y:\n",
    "            dedos.append(1)\n",
    "        else:\n",
    "            dedos.append(0)\n",
    "\n",
    "    # Reconhecer gesto com base nos dedos levantados\n",
    "    if dedos == [0, 1, 0, 0, 0]:\n",
    "        return \"Dedo indicador levantado\"\n",
    "    elif dedos == [0, 1, 1, 0, 0]:\n",
    "        return \"V\"\n",
    "    elif dedos == [0, 0, 0, 0, 0]:\n",
    "        return \"S\"\n",
    "    elif dedos == [1, 1, 1, 1, 1]:\n",
    "        return \"Mão aberta\"\n",
    "    elif dedos == [0, 0, 0, 0, 1]:\n",
    "        return \"I\"\n",
    "    elif dedos == [1, 0, 0, 0, 0]:\n",
    "        return \"A\"\n",
    "    elif dedos == [1, 1, 0, 0, 0]:\n",
    "        return \"L\"\n",
    "    elif dedos == [0, 1, 1, 1, 0]:\n",
    "        return \"Tres dedos\"\n",
    "    else:\n",
    "        return \"Gesto desconhecido\"\n",
    "\n",
    "while True:\n",
    "    ret, frame = cap.read()\n",
    "    if not ret:\n",
    "        print(\"Nao foi possivel capturar o frame\")\n",
    "        break\n",
    "\n",
    "    img_rgb = cv2.cvtColor(frame, cv2.COLOR_BGR2RGB)\n",
    "    results_hands = hands.process(img_rgb)\n",
    "    results_face = face_mesh.process(img_rgb)\n",
    "\n",
    "    if results_hands.multi_hand_landmarks:\n",
    "        for hand_landmarks in results_hands.multi_hand_landmarks:\n",
    "            mp_drawing.draw_landmarks(frame, hand_landmarks, mp_hands.HAND_CONNECTIONS)\n",
    "\n",
    "            # Reconhecer gesto\n",
    "            gesto = reconhecer_gesto(hand_landmarks.landmark)\n",
    "\n",
    "            # Escrever o nome do gesto na imagem\n",
    "            cv2.putText(frame, gesto, (10, 40), cv2.FONT_HERSHEY_SIMPLEX,\n",
    "                        1, (0, 255, 0), 2, cv2.LINE_AA)\n",
    "\n",
    "    if results_face.multi_face_landmarks:\n",
    "        for face_landmarks in results_face.multi_face_landmarks:\n",
    "            mp_drawing.draw_landmarks(\n",
    "                image=frame,\n",
    "                landmark_list=face_landmarks,\n",
    "                connections=mp_face_mesh.FACEMESH_TESSELATION,\n",
    "                landmark_drawing_spec=None,\n",
    "                connection_drawing_spec=drawing_spec)\n",
    "\n",
    "    cv2.imshow('Camera', frame)\n",
    "\n",
    "    if cv2.waitKey(1) & 0xFF == ord('q'):\n",
    "        break\n",
    "\n",
    "cap.release()\n",
    "cv2.destroyAllWindows()"
   ]
  },
  {
   "cell_type": "code",
   "execution_count": null,
   "id": "18e4729a-914d-4888-8a4f-b1b38b36e966",
   "metadata": {},
   "outputs": [],
   "source": []
  }
 ],
 "metadata": {
  "kernelspec": {
   "display_name": "Python (testeum)",
   "language": "python",
   "name": "testeum"
  },
  "language_info": {
   "codemirror_mode": {
    "name": "ipython",
    "version": 3
   },
   "file_extension": ".py",
   "mimetype": "text/x-python",
   "name": "python",
   "nbconvert_exporter": "python",
   "pygments_lexer": "ipython3",
   "version": "3.11.13"
  }
 },
 "nbformat": 4,
 "nbformat_minor": 5
}
